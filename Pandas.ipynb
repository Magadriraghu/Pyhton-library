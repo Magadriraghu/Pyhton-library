{
  "nbformat": 4,
  "nbformat_minor": 0,
  "metadata": {
    "colab": {
      "provenance": [],
      "include_colab_link": true
    },
    "kernelspec": {
      "name": "python3",
      "display_name": "Python 3"
    },
    "language_info": {
      "name": "python"
    }
  },
  "cells": [
    {
      "cell_type": "markdown",
      "metadata": {
        "id": "view-in-github",
        "colab_type": "text"
      },
      "source": [
        "<a href=\"https://colab.research.google.com/github/Magadriraghu/Python-library/blob/main/Pandas.ipynb\" target=\"_parent\"><img src=\"https://colab.research.google.com/assets/colab-badge.svg\" alt=\"Open In Colab\"/></a>"
      ]
    },
    {
      "cell_type": "markdown",
      "source": [
        "# Pandas library in python\n",
        "\n",
        "Recently i have learnt pandas functions and their uses.Now i want to practice more and if u want to learn pandas learn from this.Definitely it is useful for you in a easy and understandable way.\n",
        "#Pandas\n",
        " Pandas is used for data manipulation, analysis, and preprocessing.\n",
        "\n",
        "*In Pandas,we have two types for dimensionality and structuring of data.\n",
        "They are: A.Series\n",
        "          B.Data Frames\n",
        "\n",
        "-->A Series is known as a 1-dimensional labeled array. It's like a single column or row of data with an index, so you can think of it as a labeled list or an individual column from a DataFrame.                                        \n",
        "-->A DataFrame is referred to as a 2-dimensional labeled data structure. It's similar to a table in a relational database, with rows and columns that each have labels (index and column names)."
      ],
      "metadata": {
        "id": "j3DxyH103rCl"
      }
    },
    {
      "cell_type": "code",
      "source": [
        "#installation of pandas\n",
        "import pandas as pd"
      ],
      "metadata": {
        "id": "SIBXXC-e4Jbj"
      },
      "execution_count": null,
      "outputs": []
    },
    {
      "cell_type": "code",
      "source": [
        "#difference between dataframes and series\n",
        "#series\n",
        "#difference between dataframes and series\n",
        "#series\n",
        "a = pd.Series([10,23,45,34,56,63,4])\n",
        "print(a)\n",
        "#dataframe\n",
        "b = {'Name':['Father','mother','brother'],\n",
        "     'Age':[50,45,24],\n",
        "     'occupation': ['Businessman','teacher','student']}\n",
        "b = pd.DataFrame(b)\n",
        "print(b)\n"
      ],
      "metadata": {
        "colab": {
          "base_uri": "https://localhost:8080/"
        },
        "id": "Sz2hB5V16Fzs",
        "outputId": "a8274b47-c057-4b72-f8bd-53a80dbb042a"
      },
      "execution_count": null,
      "outputs": [
        {
          "output_type": "stream",
          "name": "stdout",
          "text": [
            "0    10\n",
            "1    23\n",
            "2    45\n",
            "3    34\n",
            "4    56\n",
            "5    63\n",
            "6     4\n",
            "dtype: int64\n",
            "      Name  Age   occupation\n",
            "0   Father   50  Businessman\n",
            "1   mother   45      teacher\n",
            "2  brother   24      student\n"
          ]
        }
      ]
    },
    {
      "cell_type": "code",
      "source": [
        "#head() is used to print upper part of the data\n",
        "#if you want to print first 3 values of series from series then we write it as\n",
        "print(a.head(3))\n",
        "#if you want to print first 2 values of series from dataframe then we write it as\n",
        "print(b.head(2))"
      ],
      "metadata": {
        "colab": {
          "base_uri": "https://localhost:8080/"
        },
        "id": "vRU57uum8gVn",
        "outputId": "1c627f06-19e9-4340-c1a6-656b165e008f"
      },
      "execution_count": null,
      "outputs": [
        {
          "output_type": "stream",
          "name": "stdout",
          "text": [
            "0    10\n",
            "1    23\n",
            "2    45\n",
            "dtype: int64\n",
            "     Name  Age   occupation\n",
            "0  Father   50  Businessman\n",
            "1  mother   45      teacher\n"
          ]
        }
      ]
    },
    {
      "cell_type": "code",
      "source": [
        "#tail() is opposite to head()\n",
        "#it print lower part of data\n",
        "#a is for series and b is for dataframe\n",
        "print(a.tail(2))\n",
        "print(b.tail(2))"
      ],
      "metadata": {
        "colab": {
          "base_uri": "https://localhost:8080/"
        },
        "id": "ge9obewv_Zy5",
        "outputId": "57d2d07d-58c4-4371-85a7-f3be98719442"
      },
      "execution_count": null,
      "outputs": [
        {
          "output_type": "stream",
          "name": "stdout",
          "text": [
            "5    63\n",
            "6     4\n",
            "dtype: int64\n",
            "      Name  Age occupation\n",
            "1   mother   45    teacher\n",
            "2  brother   24    student\n"
          ]
        }
      ]
    },
    {
      "cell_type": "code",
      "source": [
        "#info is used to get all information in detailed manner\n",
        "print(a.info())"
      ],
      "metadata": {
        "colab": {
          "base_uri": "https://localhost:8080/"
        },
        "id": "8K6TOhCGBcpA",
        "outputId": "356208c5-f4b4-49a7-eb80-bc99fd4bd943"
      },
      "execution_count": null,
      "outputs": [
        {
          "output_type": "stream",
          "name": "stdout",
          "text": [
            "<class 'pandas.core.series.Series'>\n",
            "RangeIndex: 7 entries, 0 to 6\n",
            "Series name: None\n",
            "Non-Null Count  Dtype\n",
            "--------------  -----\n",
            "7 non-null      int64\n",
            "dtypes: int64(1)\n",
            "memory usage: 184.0 bytes\n",
            "None\n"
          ]
        }
      ]
    },
    {
      "cell_type": "code",
      "source": [
        "#dtypes() is used for knowing the datatype of available data\n",
        "print(\"Series data type is:\",a.dtypes)\n",
        "print(\"dataframe data type is:\",b.dtypes)"
      ],
      "metadata": {
        "colab": {
          "base_uri": "https://localhost:8080/"
        },
        "id": "orSrRljfCH0_",
        "outputId": "4c946f11-3c6f-46d6-ee50-f1d546f3f470"
      },
      "execution_count": null,
      "outputs": [
        {
          "output_type": "stream",
          "name": "stdout",
          "text": [
            "Series data type is: int64\n",
            "dataframe data type is: Name          object\n",
            "Age            int64\n",
            "occupation    object\n",
            "dtype: object\n"
          ]
        }
      ]
    },
    {
      "cell_type": "code",
      "source": [
        "#shape() is used to show no of rows and columns\n",
        "print(a.shape)#as the series ,there is no rows and contains only columns it shows only no of vcolumns only\n",
        "print(b.shape)#shows no of rows and columns"
      ],
      "metadata": {
        "colab": {
          "base_uri": "https://localhost:8080/"
        },
        "id": "JVoj_w3jDLQf",
        "outputId": "b43abdab-5f50-407f-eab5-e1263d83ad48"
      },
      "execution_count": null,
      "outputs": [
        {
          "output_type": "stream",
          "name": "stdout",
          "text": [
            "(7,)\n",
            "(3, 3)\n"
          ]
        }
      ]
    },
    {
      "cell_type": "code",
      "source": [
        "#size() is for no of elements present in series and dataframes\n",
        "print(a.size)\n",
        "print(b.size)"
      ],
      "metadata": {
        "colab": {
          "base_uri": "https://localhost:8080/"
        },
        "id": "OJw6LVbqEDs4",
        "outputId": "b573b7cf-7b14-497e-c023-800d1e6b9c15"
      },
      "execution_count": null,
      "outputs": [
        {
          "output_type": "stream",
          "name": "stdout",
          "text": [
            "7\n",
            "9\n"
          ]
        }
      ]
    },
    {
      "cell_type": "code",
      "source": [
        "print(a.describe)\n",
        "print(b.describe)"
      ],
      "metadata": {
        "colab": {
          "base_uri": "https://localhost:8080/"
        },
        "id": "J_0gGBmGEhuj",
        "outputId": "698946c0-befa-4dd7-9d35-d12bcd10ac10"
      },
      "execution_count": null,
      "outputs": [
        {
          "output_type": "stream",
          "name": "stdout",
          "text": [
            "<bound method NDFrame.describe of 0    10\n",
            "1    23\n",
            "2    45\n",
            "3    34\n",
            "4    56\n",
            "5    63\n",
            "6     4\n",
            "dtype: int64>\n",
            "<bound method NDFrame.describe of       Name  Age   occupation\n",
            "0   Father   50  Businessman\n",
            "1   mother   45      teacher\n",
            "2  brother   24      student>\n"
          ]
        }
      ]
    },
    {
      "cell_type": "code",
      "source": [
        "import pandas as pd\n",
        "c = pd.DataFrame({'ex1':[10,23,45,34,56,63,11],\n",
        "                 'ex2':[1,5,3,4,5,5,6]})\n",
        "print(c.describe())\n"
      ],
      "metadata": {
        "colab": {
          "base_uri": "https://localhost:8080/"
        },
        "id": "7IY-0pJzE3n-",
        "outputId": "fcb1bf9b-baf6-4335-80e4-2da03107093a"
      },
      "execution_count": null,
      "outputs": [
        {
          "output_type": "stream",
          "name": "stdout",
          "text": [
            "             ex1       ex2\n",
            "count   7.000000  7.000000\n",
            "mean   34.571429  4.142857\n",
            "std    21.093894  1.676163\n",
            "min    10.000000  1.000000\n",
            "25%    17.000000  3.500000\n",
            "50%    34.000000  5.000000\n",
            "75%    50.500000  5.000000\n",
            "max    63.000000  6.000000\n"
          ]
        }
      ]
    },
    {
      "cell_type": "code",
      "source": [
        "print(a.ndim)\n",
        "print(b.ndim)"
      ],
      "metadata": {
        "colab": {
          "base_uri": "https://localhost:8080/"
        },
        "id": "1lVmXYiyEeDw",
        "outputId": "6eee2e13-621c-4d80-cb78-bc30e8ca4187"
      },
      "execution_count": null,
      "outputs": [
        {
          "output_type": "stream",
          "name": "stdout",
          "text": [
            "1\n",
            "2\n"
          ]
        }
      ]
    },
    {
      "cell_type": "code",
      "source": [
        "#unique is used to disappear repeated elements and each element print once\n",
        "d = pd.Series([8,8,3,5,7,9,9,6,4])\n",
        "print(d.unique)\n",
        "#nunique is opposite to unique,it will print series as it is\n",
        "print(d.nunique)\n",
        "print(b['Name'].unique)"
      ],
      "metadata": {
        "colab": {
          "base_uri": "https://localhost:8080/"
        },
        "id": "OmP3mwJJf_0x",
        "outputId": "833bef91-a3b8-4279-b046-d4abe5e47212"
      },
      "execution_count": null,
      "outputs": [
        {
          "output_type": "stream",
          "name": "stdout",
          "text": [
            "<bound method Series.unique of 0    8\n",
            "1    8\n",
            "2    3\n",
            "3    5\n",
            "4    7\n",
            "5    9\n",
            "6    9\n",
            "7    6\n",
            "8    4\n",
            "dtype: int64>\n",
            "<bound method IndexOpsMixin.nunique of 0    8\n",
            "1    8\n",
            "2    3\n",
            "3    5\n",
            "4    7\n",
            "5    9\n",
            "6    9\n",
            "7    6\n",
            "8    4\n",
            "dtype: int64>\n",
            "<bound method Series.unique of 0     Father\n",
            "1     mother\n",
            "2    brother\n",
            "Name: Name, dtype: object>\n"
          ]
        }
      ]
    },
    {
      "cell_type": "code",
      "source": [
        "#isnull or isna is used to check the null values\n",
        "#if is there any null value it will print \"true\" otherwise \"false\"\n",
        "print(a.isnull)\n",
        "print(b.isnull)\n",
        "e = {'ex1':['y','z',None],\n",
        "    'ex2':[0,None,1]}\n",
        "e = pd.DataFrame(e)\n",
        "print(e.isnull)"
      ],
      "metadata": {
        "colab": {
          "base_uri": "https://localhost:8080/"
        },
        "id": "k_i61pbXluCO",
        "outputId": "5109282a-e583-45de-f421-34ddcf448e6d"
      },
      "execution_count": null,
      "outputs": [
        {
          "output_type": "stream",
          "name": "stdout",
          "text": [
            "<bound method Series.isnull of 0    10\n",
            "1    23\n",
            "2    45\n",
            "3    34\n",
            "4    56\n",
            "5    63\n",
            "6     4\n",
            "dtype: int64>\n",
            "<bound method DataFrame.isnull of       Name  Age   occupation\n",
            "0   Father   50  Businessman\n",
            "1   mother   45      teacher\n",
            "2  brother   24      student>\n",
            "<bound method DataFrame.isnull of     ex1  ex2\n",
            "0     y  0.0\n",
            "1     z  NaN\n",
            "2  None  1.0>\n"
          ]
        }
      ]
    },
    {
      "cell_type": "code",
      "source": [
        "#fillna is used to replace something in place of null values\n",
        "print(e.fillna(9))"
      ],
      "metadata": {
        "colab": {
          "base_uri": "https://localhost:8080/"
        },
        "id": "-do8AOSipWdk",
        "outputId": "9f2c1fe5-7d83-4836-8e49-4810ba6f8bc1"
      },
      "execution_count": null,
      "outputs": [
        {
          "output_type": "stream",
          "name": "stdout",
          "text": [
            "  ex1  ex2\n",
            "0   y  0.0\n",
            "1   z  9.0\n",
            "2   9  1.0\n"
          ]
        }
      ]
    },
    {
      "cell_type": "code",
      "source": [
        "#clip is used to generate random numbers\n",
        "print(a.clip(9,12))"
      ],
      "metadata": {
        "colab": {
          "base_uri": "https://localhost:8080/"
        },
        "id": "OSJE7ZIRpqJZ",
        "outputId": "86a7bfe8-ee73-4771-8f45-2c8c82793fee"
      },
      "execution_count": null,
      "outputs": [
        {
          "output_type": "stream",
          "name": "stdout",
          "text": [
            "0    10\n",
            "1    12\n",
            "2    12\n",
            "3    12\n",
            "4    12\n",
            "5    12\n",
            "6     9\n",
            "dtype: int64\n"
          ]
        }
      ]
    },
    {
      "cell_type": "code",
      "source": [
        "#index is used for knowing about no of elements in series\n",
        "#columns is used to check columns in data for dataframe\n",
        "print(a.index)\n",
        "print(b.columns)"
      ],
      "metadata": {
        "colab": {
          "base_uri": "https://localhost:8080/"
        },
        "id": "7N7LdQa5r4ov",
        "outputId": "921ef10a-db66-42b2-d882-4234d8768aa0"
      },
      "execution_count": null,
      "outputs": [
        {
          "output_type": "stream",
          "name": "stdout",
          "text": [
            "RangeIndex(start=0, stop=7, step=1)\n",
            "Index(['Name', 'Age', 'occupation'], dtype='object')\n"
          ]
        }
      ]
    },
    {
      "cell_type": "code",
      "source": [
        "#sort_values are used to arrange the elements in ascending order\n",
        "print(a.sort_values())\n",
        "print(b['Age'].sort_values())"
      ],
      "metadata": {
        "colab": {
          "base_uri": "https://localhost:8080/"
        },
        "id": "X-sISLO2sdQ2",
        "outputId": "37455209-33ba-446f-cd61-c58e5cce93ab"
      },
      "execution_count": null,
      "outputs": [
        {
          "output_type": "stream",
          "name": "stdout",
          "text": [
            "6     4\n",
            "0    10\n",
            "1    23\n",
            "3    34\n",
            "2    45\n",
            "4    56\n",
            "5    63\n",
            "dtype: int64\n",
            "2    24\n",
            "1    45\n",
            "0    50\n",
            "Name: Age, dtype: int64\n"
          ]
        }
      ]
    },
    {
      "cell_type": "code",
      "source": [
        "#to arrange in descending order\n",
        "print(a.sort_values(ascending=False))\n",
        "print(b['Age'].sort_values(ascending=False))"
      ],
      "metadata": {
        "colab": {
          "base_uri": "https://localhost:8080/"
        },
        "id": "RpDG_PhVta_Z",
        "outputId": "28bda835-d52f-4056-fa80-5cda4c6d7de0"
      },
      "execution_count": null,
      "outputs": [
        {
          "output_type": "stream",
          "name": "stdout",
          "text": [
            "5    63\n",
            "4    56\n",
            "2    45\n",
            "3    34\n",
            "1    23\n",
            "0    10\n",
            "6     4\n",
            "dtype: int64\n",
            "0    50\n",
            "1    45\n",
            "2    24\n",
            "Name: Age, dtype: int64\n"
          ]
        }
      ]
    },
    {
      "cell_type": "code",
      "source": [
        "#value_counts is used for counting each element and displaying that how many times it was repeated\n",
        "print(d.value_counts())"
      ],
      "metadata": {
        "colab": {
          "base_uri": "https://localhost:8080/"
        },
        "id": "iiWzQk8vtz6W",
        "outputId": "e5cfdfac-fcf2-495e-c9fb-c589e4c577c0"
      },
      "execution_count": null,
      "outputs": [
        {
          "output_type": "stream",
          "name": "stdout",
          "text": [
            "8    2\n",
            "9    2\n",
            "3    1\n",
            "5    1\n",
            "7    1\n",
            "6    1\n",
            "4    1\n",
            "Name: count, dtype: int64\n"
          ]
        }
      ]
    },
    {
      "cell_type": "code",
      "source": [
        "#nlargest() used to print largest value from series\n",
        "print(a.nlargest())\n",
        "#nsmallest() used to print smallest value from series\n",
        "print(a.nsmallest())"
      ],
      "metadata": {
        "colab": {
          "base_uri": "https://localhost:8080/"
        },
        "id": "Dw6I7SGZuWpT",
        "outputId": "ccff1b5e-7b95-43ac-88ff-cb5081329a45"
      },
      "execution_count": null,
      "outputs": [
        {
          "output_type": "stream",
          "name": "stdout",
          "text": [
            "5    63\n",
            "4    56\n",
            "2    45\n",
            "3    34\n",
            "1    23\n",
            "dtype: int64\n",
            "6     4\n",
            "0    10\n",
            "1    23\n",
            "3    34\n",
            "2    45\n",
            "dtype: int64\n"
          ]
        }
      ]
    },
    {
      "cell_type": "code",
      "source": [
        "#nlargest() used to print largest value from dataframe\n",
        "print(b['Age'].nlargest())\n",
        "#nsmallest() used to print smallest value from dataframe\n",
        "print(b['Age'].nsmallest())"
      ],
      "metadata": {
        "colab": {
          "base_uri": "https://localhost:8080/"
        },
        "id": "FHq2RXd1ujyG",
        "outputId": "2c400783-ed10-43f1-f192-d10c33b32f69"
      },
      "execution_count": null,
      "outputs": [
        {
          "output_type": "stream",
          "name": "stdout",
          "text": [
            "0    50\n",
            "1    45\n",
            "2    24\n",
            "Name: Age, dtype: int64\n",
            "2    24\n",
            "1    45\n",
            "0    50\n",
            "Name: Age, dtype: int64\n"
          ]
        }
      ]
    },
    {
      "cell_type": "code",
      "source": [
        "#copy() is used to reprint data\n",
        "print(b.copy())\n",
        "print(a.copy())"
      ],
      "metadata": {
        "colab": {
          "base_uri": "https://localhost:8080/"
        },
        "id": "JLkzGOOHvXAT",
        "outputId": "8afb3522-fcaf-46b3-b181-de86291d3146"
      },
      "execution_count": null,
      "outputs": [
        {
          "output_type": "stream",
          "name": "stdout",
          "text": [
            "      Name  Age   occupation\n",
            "0   Father   50  Businessman\n",
            "1   mother   45      teacher\n",
            "2  brother   24      student\n",
            "0    10\n",
            "1    23\n",
            "2    45\n",
            "3    34\n",
            "4    56\n",
            "5    63\n",
            "6     4\n",
            "dtype: int64\n"
          ]
        }
      ]
    },
    {
      "cell_type": "code",
      "source": [
        "#loc() is used for knowing the elements as per index\n",
        "print(a.loc[4])\n",
        "print(b.loc[1])"
      ],
      "metadata": {
        "colab": {
          "base_uri": "https://localhost:8080/"
        },
        "id": "pwRiz6AwvmA-",
        "outputId": "bfb9ea1e-a6da-40b6-810c-b012a43709e4"
      },
      "execution_count": null,
      "outputs": [
        {
          "output_type": "stream",
          "name": "stdout",
          "text": [
            "56\n",
            "Name           mother\n",
            "Age                45\n",
            "occupation    teacher\n",
            "Name: 1, dtype: object\n"
          ]
        }
      ]
    },
    {
      "cell_type": "code",
      "source": [
        "#iloc() is used for elements find by index\n",
        "print(a.iloc[0])\n",
        "print(b['Name'].iloc[0])"
      ],
      "metadata": {
        "colab": {
          "base_uri": "https://localhost:8080/"
        },
        "id": "TM0J4LahwScc",
        "outputId": "1b87160c-dd22-43f9-8e1b-f314613a5163"
      },
      "execution_count": null,
      "outputs": [
        {
          "output_type": "stream",
          "name": "stdout",
          "text": [
            "10\n",
            "Father\n"
          ]
        }
      ]
    },
    {
      "cell_type": "code",
      "source": [
        "#rename() is used for change the existed name\n",
        "print(b.rename(columns={'Name':'Father', 'Name':'Relation'}))"
      ],
      "metadata": {
        "colab": {
          "base_uri": "https://localhost:8080/"
        },
        "id": "4mpnn9PQxC37",
        "outputId": "4020c4cf-5cc5-4400-d274-07e692c021c5"
      },
      "execution_count": null,
      "outputs": [
        {
          "output_type": "stream",
          "name": "stdout",
          "text": [
            "  Relation  Age   occupation\n",
            "0   Father   50  Businessman\n",
            "1   mother   45      teacher\n",
            "2  brother   24      student\n"
          ]
        }
      ]
    },
    {
      "cell_type": "code",
      "source": [
        "#where() is used to print requirements as per conditions\n",
        "print(b.where(b['Age']>40))"
      ],
      "metadata": {
        "colab": {
          "base_uri": "https://localhost:8080/"
        },
        "id": "2_BkWZNJPpYb",
        "outputId": "9c68efb4-754f-4ab9-a243-159d9f0c3ec5"
      },
      "execution_count": null,
      "outputs": [
        {
          "output_type": "stream",
          "name": "stdout",
          "text": [
            "     Name   Age   occupation\n",
            "0  Father  50.0  Businessman\n",
            "1  mother  45.0      teacher\n",
            "2     NaN   NaN          NaN\n"
          ]
        }
      ]
    },
    {
      "cell_type": "code",
      "source": [
        "#drop() is used to delete the values with index accordingly\n",
        "print(d.drop(1))"
      ],
      "metadata": {
        "colab": {
          "base_uri": "https://localhost:8080/"
        },
        "id": "QNVCPa6bRO44",
        "outputId": "3a8cb597-67bb-40cc-8fa0-61f3b2b2d30f"
      },
      "execution_count": null,
      "outputs": [
        {
          "output_type": "stream",
          "name": "stdout",
          "text": [
            "0    8\n",
            "2    3\n",
            "3    5\n",
            "4    7\n",
            "5    9\n",
            "6    9\n",
            "7    6\n",
            "8    4\n",
            "dtype: int64\n"
          ]
        }
      ]
    }
  ]
}